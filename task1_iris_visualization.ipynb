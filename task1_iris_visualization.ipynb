{
  "metadata": {
    "kernelspec": {
      "name": "xpython",
      "display_name": "Python 3.13 (XPython)",
      "language": "python"
    },
    "language_info": {
      "file_extension": ".py",
      "mimetype": "text/x-python",
      "name": "python",
      "version": "3.13.1"
    }
  },
  "nbformat_minor": 5,
  "nbformat": 4,
  "cells": [
    {
      "id": "41a17d09-889a-46a8-925a-857305768b0d",
      "cell_type": "code",
      "source": "import pandas as pd\nimport seaborn as sns\nimport matplotlib.pyplot as plt\n\n# Load the dataset\niris = sns.load_dataset('iris')\n\n# Dataset structure\nprint('Shape:', iris.shape)\nprint('Columns:', iris.columns)\nprint(iris.head())\n\n# Scatter Plot\nsns.pairplot(iris, hue='species')\nplt.suptitle('Scatter Plot - Pairwise Relationship', y=1.02)\nplt.show()\n\n# Histogram\niris.hist(figsize=(10, 6), edgecolor='black')\nplt.suptitle('Histograms of Iris Features')\nplt.show()\n\n# Box Plot\nplt.figure(figsize=(10, 6))\nsns.boxplot(data=iris)\nplt.title('Box Plot of Iris Features')\nplt.show()\n\n",
      "metadata": {
        "trusted": true
      },
      "outputs": [],
      "execution_count": null
    }
  ]
}
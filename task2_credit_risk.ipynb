{
  "metadata": {
    "kernelspec": {
      "name": "python",
      "display_name": "Python (Pyodide)",
      "language": "python"
    },
    "language_info": {
      "codemirror_mode": {
        "name": "python",
        "version": 3
      },
      "file_extension": ".py",
      "mimetype": "text/x-python",
      "name": "python",
      "nbconvert_exporter": "python",
      "pygments_lexer": "ipython3",
      "version": "3.8"
    }
  },
  "nbformat_minor": 5,
  "nbformat": 4,
  "cells": [
    {
      "id": "02c56edd-38cf-407d-8df8-7fa2a85be2ef",
      "cell_type": "code",
      "source": "import pandas as pd\nimport seaborn as sns\nimport matplotlib.pyplot as plt\nfrom sklearn.model_selection import train_test_split\nfrom sklearn.preprocessing import LabelEncoder\nfrom sklearn.linear_model import LogisticRegression\nfrom sklearn.metrics import accuracy_score, confusion_matrix, ConfusionMatrixDisplay\n\n# Simulated dataset\ndata = {\n    'Loan_ID': ['LP001', 'LP002', 'LP003', 'LP004', 'LP005'],\n    'Gender': ['Male', 'Female', 'Male', 'Male', 'Female'],\n    'Married': ['No', 'Yes', 'Yes', 'Yes', 'No'],\n    'Education': ['Graduate', 'Not Graduate', 'Graduate', 'Graduate', 'Not Graduate'],\n    'Self_Employed': ['No', 'Yes', 'No', 'No', 'Yes'],\n    'ApplicantIncome': [5000, 3000, 4000, 6000, 3500],\n    'LoanAmount': [130, 100, 120, 150, 110],\n    'Loan_Status': ['Y', 'N', 'Y', 'Y', 'N']\n}\nloan_df = pd.DataFrame(data)\n\n# Encode categories\nle = LabelEncoder()\nfor col in ['Gender', 'Married', 'Education', 'Self_Employed', 'Loan_Status']:\n    loan_df[col] = le.fit_transform(loan_df[col])\n\n# Visualizations\nsns.histplot(loan_df['LoanAmount'], kde=True)\nplt.title('Loan Amount Distribution')\nplt.show()\n\nsns.boxplot(x='Education', y='ApplicantIncome', data=loan_df)\nplt.title('Income by Education')\nplt.show()\n\n# Model\nX = loan_df[['Gender', 'Married', 'Education', 'Self_Employed', 'ApplicantIncome', 'LoanAmount']]\ny = loan_df['Loan_Status']\nX_train, X_test, y_train, y_test = train_test_split(X, y, test_size=0.2, random_state=42)\n\nmodel = LogisticRegression()\nmodel.fit(X_train, y_train)\n\ny_pred = model.predict(X_test)\nprint(\"Accuracy:\", accuracy_score(y_test, y_pred))\n\ncm = confusion_matrix(y_test, y_pred)\nConfusionMatrixDisplay(confusion_matrix=cm).plot()\n",
      "metadata": {
        "trusted": true
      },
      "outputs": [],
      "execution_count": null
    }
  ]
}